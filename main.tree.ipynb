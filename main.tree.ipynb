{
 "cells": [
  {
   "cell_type": "code",
   "execution_count": 13,
   "metadata": {},
   "outputs": [
    {
     "name": "stdout",
     "output_type": "stream",
     "text": [
      "output.Fasta\n"
     ]
    }
   ],
   "source": [
    "filename = input()\n",
    "inputs = open(filename, 'r')\n",
    "strings = inputs.read()\n",
    "inputs.close()"
   ]
  },
  {
   "cell_type": "code",
   "execution_count": 20,
   "metadata": {},
   "outputs": [
    {
     "name": "stdout",
     "output_type": "stream",
     "text": [
      "11745\n"
     ]
    }
   ],
   "source": [
    "var = strings.split('\\n')\n",
    "names_n_dist = []\n",
    "for i in var:\n",
    "    if i == '>' :\n",
    "        break\n",
    "    names_n_dist.append(i)\n",
    "distance = int(names_n_dist[len(names_n_dist)-1])\n",
    "outputs = open('out.tree', 'w')\n",
    "outputs.write(names_n_dist[0])\n",
    "dist = int(distance / distance * 100)\n",
    "for i in range(dist):\n",
    "    outputs.write('\\n')\n",
    "    outputs.write('|')\n",
    "outputs.write(names_n_dist[1])\n",
    "outputs.close()"
   ]
  }
 ],
 "metadata": {
  "kernelspec": {
   "display_name": "Python 3",
   "language": "python",
   "name": "python3"
  },
  "language_info": {
   "codemirror_mode": {
    "name": "ipython",
    "version": 3
   },
   "file_extension": ".py",
   "mimetype": "text/x-python",
   "name": "python",
   "nbconvert_exporter": "python",
   "pygments_lexer": "ipython3",
   "version": "3.7.4"
  }
 },
 "nbformat": 4,
 "nbformat_minor": 2
}
