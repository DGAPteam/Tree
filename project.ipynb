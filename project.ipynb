{
 "cells": [
  {
   "cell_type": "code",
   "execution_count": 22,
   "metadata": {},
   "outputs": [],
   "source": [
    "import alignment as al"
   ]
  },
  {
   "cell_type": "code",
   "execution_count": 4,
   "metadata": {},
   "outputs": [],
   "source": [
    "_input = open('example/input.fas', 'r')\n",
    "Sequences = _input.read()\n",
    "_input.close()"
   ]
  },
  {
   "cell_type": "code",
   "execution_count": 5,
   "metadata": {},
   "outputs": [],
   "source": [
    "Seq = []\n",
    "Seq_inner = []\n",
    "Seq = Sequences.split('>')\n",
    "for i in Seq:\n",
    "    Seq_inner.append(i.split('\\n'))\n",
    "Seq_inner.remove(Seq_inner[0])\n",
    "sequences = []\n",
    "for i in Seq_inner:\n",
    "    s = ''\n",
    "    for j in range(1,len(i)):\n",
    "        s += i[j]\n",
    "    sequences.append(s)\n",
    "if len(sequences[0]) > len(sequences[1]):\n",
    "    seq = sequences[1]\n",
    "    seqi = sequences[0]\n",
    "else:\n",
    "    seq = sequences[0]\n",
    "    seqi = sequences[1]"
   ]
  },
  {
   "cell_type": "code",
   "execution_count": 16,
   "metadata": {},
   "outputs": [],
   "source": [
    "#Нидлман-Вунш\n",
    "output_name = 'output' + '.Needleman-Wunch'\n",
    "Out = open(output_name, 'w')\n",
    "STRAX = al.ALIGN_NW(seqi,seq)\n",
    "Out.write(str(STRAX[0]))\n",
    "Out.write('\\n')\n",
    "if(len(STRAX[1]) > 60):\n",
    "    for i in range(1, len(STRAX)):\n",
    "        for k in range(int(len(STRAX[i]) / 60)):\n",
    "            for j in range(60):\n",
    "                if (k * 60 + j < len(str(STRAX[i]))):\n",
    "                    Out.write(str(STRAX[i][k*60 + j]))\n",
    "            Out.write('\\n')\n",
    "        Out.write('\\n')\n",
    "else:\n",
    "    for i in range(len(STRAX)):\n",
    "        Out.write(str(STRAX[i]))\n",
    "        Out.write('\\n')\n",
    "Out.close()"
   ]
  },
  {
   "cell_type": "code",
   "execution_count": 20,
   "metadata": {},
   "outputs": [],
   "source": [
    "#Фаста\n",
    "output_name = 'output' + '.Fasta'\n",
    "Out = open(output_name, 'w')\n",
    "STRAX = al.FASTA(seqi, seq)\n",
    "Out.write(str(STRAX[0]))\n",
    "Out.write('\\n')\n",
    "if(len(STRAX[1]) > 60):\n",
    "    for i in range(1, len(STRAX)):\n",
    "        for k in range(int(len(STRAX[i]) / 60)):\n",
    "            for j in range(60):\n",
    "                if (k * 60 + j < len(str(STRAX[i]))):\n",
    "                    Out.write(str(STRAX[i][k*60 + j]))\n",
    "            Out.write('\\n')\n",
    "        Out.write('\\n')\n",
    "else:\n",
    "    for i in range(len(STRAX)):\n",
    "        Out.write(str(STRAX[i]))\n",
    "        Out.write('\\n')\n",
    "Out.close()\n"
   ]
  },
  {
   "cell_type": "code",
   "execution_count": 23,
   "metadata": {},
   "outputs": [],
   "source": [
    "#БЛАСТ\n",
    "output_name = 'output' + '.BLAST'\n",
    "Out = open(output_name, 'w')\n",
    "STRAX = al.BLAST(seqi, seq, 5)\n",
    "Out.write(str(STRAX[0]))\n",
    "Out.write('\\n')\n",
    "if(len(STRAX[1]) > 60):\n",
    "    for i in range(1, len(STRAX)):\n",
    "        for k in range(int(len(STRAX[i]) / 60)):\n",
    "            for j in range(60):\n",
    "                if (k * 60 + j < len(str(STRAX[i]))):\n",
    "                    Out.write(str(STRAX[i][k*60 + j]))\n",
    "            Out.write('\\n')\n",
    "        Out.write('\\n')\n",
    "else:\n",
    "    for i in range(len(STRAX)):\n",
    "        Out.write(str(STRAX[i]))\n",
    "        Out.write('\\n')\n",
    "    Out.close()"
   ]
  },
  {
   "cell_type": "code",
   "execution_count": 12,
   "metadata": {},
   "outputs": [],
   "source": [
    "#Левенштейн\n",
    "output_name = 'output' + '.Levin'\n",
    "Out = open(output_name, 'w')\n",
    "STRAX = al.distance(seqi, seq)\n",
    "Out.write(str(STRAX))\n",
    "Out.close()"
   ]
  }
 ],
 "metadata": {
  "kernelspec": {
   "display_name": "Python 3",
   "language": "python",
   "name": "python3"
  },
  "language_info": {
   "codemirror_mode": {
    "name": "ipython",
    "version": 3
   },
   "file_extension": ".py",
   "mimetype": "text/x-python",
   "name": "python",
   "nbconvert_exporter": "python",
   "pygments_lexer": "ipython3",
   "version": "3.7.4"
  }
 },
 "nbformat": 4,
 "nbformat_minor": 2
}
