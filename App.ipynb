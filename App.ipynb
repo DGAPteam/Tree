{
 "cells": [
  {
   "cell_type": "code",
   "execution_count": 1,
   "metadata": {},
   "outputs": [],
   "source": [
    "import sys, os\n",
    "from PyQt5 import QtCore, QtGui, QtWidgets\n",
    "import design\n",
    "from PyQt5.QtWidgets import (QMainWindow, QTextEdit,\n",
    "    QAction, QFileDialog, QApplication)\n",
    "from PyQt5.QtGui import QIcon\n",
    "import alygnment as al"
   ]
  },
  {
   "cell_type": "code",
   "execution_count": null,
   "metadata": {},
   "outputs": [],
   "source": [
    "class ExampleApp(QtWidgets.QMainWindow, design.Ui_MainWindow):\n",
    "    def __init__(self):\n",
    "        # Это здесь нужно для доступа к переменным, методам\n",
    "        # и т.д. в файле design.py\n",
    "        super().__init__()\n",
    "        self.textEdit = QTextEdit()\n",
    "        self.setupUi(self)  # Это нужно для инициализации нашего дизайна\n",
    "        self.pushButton_2.clicked.connect(self.showDialog)  # Выполнить функцию browse_folder\n",
    "                                                            # при нажатии кнопки\n",
    "            \n",
    "        openFile = QAction(QIcon('open.png'), 'Open', self)\n",
    "        openFile.setShortcut('Ctrl+O')\n",
    "        openFile.setStatusTip('Open new File')\n",
    "        openFile.triggered.connect(self.showDialog)\n",
    "\n",
    "    def showDialog(self):\n",
    "        fname = QFileDialog.getOpenFileName(self, 'Open file', '/home')[0]\n",
    "        self.listWidget.addItem('You have chosen: ' + fname + '\\n' + 'What would you do with it?') \n",
    "        f = open(fname, 'r')\n",
    "        with f:\n",
    "            data = f.read()\n",
    "            #self.textEdit.setText(data)\n",
    "            self.textEdit.setText(data)\n",
    "            print(al.readseq(data))\n",
    "\n",
    "\n",
    "def main():\n",
    "    app = QtWidgets.QApplication(sys.argv)  # Новый экземпляр QApplication\n",
    "    window = ExampleApp()  # Создаём объект класса ExampleApp\n",
    "    window.show()  # Показываем окно\n",
    "    app.exec_()  # и запускаем приложение\n",
    "\n",
    "if __name__ == '__main__':  # Если мы запускаем файл напрямую, а не импортируем\n",
    "    main()  # то запускаем функцию main()"
   ]
  }
 ],
 "metadata": {
  "kernelspec": {
   "display_name": "Python 3",
   "language": "python",
   "name": "python3"
  },
  "language_info": {
   "codemirror_mode": {
    "name": "ipython",
    "version": 3
   },
   "file_extension": ".py",
   "mimetype": "text/x-python",
   "name": "python",
   "nbconvert_exporter": "python",
   "pygments_lexer": "ipython3",
   "version": "3.7.4"
  }
 },
 "nbformat": 4,
 "nbformat_minor": 2
}
