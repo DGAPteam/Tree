{
 "cells": [
  {
   "cell_type": "code",
   "execution_count": 6,
   "metadata": {},
   "outputs": [],
   "source": [
    "import sys, os\n",
    "from PyQt5 import QtCore, QtGui, QtWidgets\n",
    "import design"
   ]
  },
  {
   "cell_type": "code",
   "execution_count": null,
   "metadata": {},
   "outputs": [],
   "source": [
    "class ExampleApp(QtWidgets.QMainWindow, design.Ui_MainWindow):\n",
    "    def __init__(self):\n",
    "        # Это здесь нужно для доступа к переменным, методам\n",
    "        # и т.д. в файле design.py\n",
    "        super().__init__()\n",
    "        self.setupUi(self)  # Это нужно для инициализации нашего дизайна\n",
    "        self.pushButton_2.clicked.connect(self.browse_folder)  # Выполнить функцию browse_folder\n",
    "                                                            # при нажатии кнопки\n",
    "\n",
    "    def browse_folder(self):\n",
    "        self.listWidget.clear()  # На случай, если в списке уже есть элементы\n",
    "        directory = QtWidgets.QFileDialog.getExistingDirectory(self, \"Вова привет я создал своё приложение\")\n",
    "        # открыть диалог выбора директории и установить значение переменной\n",
    "        # равной пути к выбранной директории\n",
    "\n",
    "        if directory:  # не продолжать выполнение, если пользователь не выбрал директорию\n",
    "            for file_name in os.list(directory):  # для каждого файла в директории\n",
    "                self.listWidget.addItem(file_name)   # добавить файл в listWidget\n",
    "\n",
    "def main():\n",
    "    app = QtWidgets.QApplication(sys.argv)  # Новый экземпляр QApplication\n",
    "    window = ExampleApp()  # Создаём объект класса ExampleApp\n",
    "    window.show()  # Показываем окно\n",
    "    app.exec_()  # и запускаем приложение\n",
    "\n",
    "if __name__ == '__main__':  # Если мы запускаем файл напрямую, а не импортируем\n",
    "    main()  # то запускаем функцию main()"
   ]
  }
 ],
 "metadata": {
  "kernelspec": {
   "display_name": "Python 3",
   "language": "python",
   "name": "python3"
  },
  "language_info": {
   "codemirror_mode": {
    "name": "ipython",
    "version": 3
   },
   "file_extension": ".py",
   "mimetype": "text/x-python",
   "name": "python",
   "nbconvert_exporter": "python",
   "pygments_lexer": "ipython3",
   "version": "3.7.4"
  }
 },
 "nbformat": 4,
 "nbformat_minor": 2
}
